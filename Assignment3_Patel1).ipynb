{
 "cells": [
  {
   "cell_type": "markdown",
   "id": "799fb78e-e6fe-4180-a852-075a423b8a23",
   "metadata": {
    "tags": []
   },
   "source": [
    "# Assignment #3 - Data Gathering and Warehousing - DSSA-5102\n",
    "\n",
    "Instructor: Melissa Laurino\n",
    "Spring 2024\n",
    "\n",
    "Name: Poorva Patel\n",
    "Date: 2/8/24\n",
    "\n",
    "We introduced in Assignment #2 the imporatance of data cleaning and why accurrate data is needed when making informed decisions in our field. In our assignment, we were faced with making the decision whether or not to omit data we may not know too much about yet. \n",
    "\n",
    "Metadata is data about the data. Metadata can be structural, administrative, statistical and much more.\n",
    "\n",
    "When building your data warehouses it is important to have data cleaning protocols established for your organization BEFORE you start to clean the data.\n",
    "Your task for Assignment #3 is to:\n",
    "<b>--</b>Create a Github repository for this class. It can be public or private. If you choose to make it private, add the instructor as a collaborator. @MelissaLaurino<br>\n",
    "<b>--</b>Staying Connected -> Visit the Discussion Board and share your username with classmates if you are interested.<br>\n",
    "<b>--</b>Upload Assignment #1, #2, and your clean data (If you created a physical clean copy of it, otherwise the link is fine) to your new/established Github repository. For every repository you create, you'll automatically have the option to include a README.md (Meta data) file. \n",
    "<b>--</b>Create a descriptive and very detailed README.md file for your dataset you have chosen to continue with. Insert a link to your Github README.md repository file in the comments section on Blackboard, or attach this assignment for submission.\n"
   ]
  },
  {
   "cell_type": "markdown",
   "id": "71044053",
   "metadata": {
    "tags": []
   },
   "source": [
    "Include all of the following information on your README.md file for full credit. Be specific!:<br>\n",
    "More research may be needed on your dataset, besides general exploration, to answer the different types of metadata questions. If you are exploring your data at a greater depth to answer these questions, you can explore on this new document or continue working in Assignment #2.<br>\n",
    "(Refer to the Powerpoint notes on Blackboard for examples and guidance.)"
   ]
  },
  {
   "cell_type": "markdown",
   "id": "a3948dda",
   "metadata": {
    "tags": []
   },
   "source": [
    "Where is the data from?\n",
    "    The data is from Kaggle. It was downloaded from Our World in Data (OWID) in the series Environmental impacts of food production.  OWID sourced this data from a study published in Science in 2018, Reducing food’s environmental impacts through producers and consumers. by J. Poore and T. Nemecek.\n",
    "\n",
    "How was it collected?\n",
    "    Poore and Nemecek consolidated data on the multiple environmental impacts of ∼38,000 farms producing 40 different agricultural goods around the world.\n",
    "\n",
    "How was it extracted?\n",
    "     Poore and Nemecek did a meta-analysis comparing various types of food production systems.\n",
    "\n",
    "What program was used to clean the data? \n",
    "    Data was cleaned using R.\n",
    "\n",
    "How was the data cleaned or transformed? Be specific.\n",
    "   The data column names were changed to lowercase. No additional cleaning required.\n",
    "\n",
    "What are the units of the numeric data?\n",
    "    There are 22 units measured in the following: weight (kilograms & grams), volume (liters), and Kilocalories. These represent Kg CO2 - equivalents per kg product.\n",
    "\n",
    "What were the formulas used in column creation?\n",
    "    No new column was created.\n",
    "\n",
    "How is the data validated to ensure consistency?\n",
    "    Data was checked for outliers and duplicates. In addition, the source of the data was verified.\n",
    "\n",
    "What are the definitions for the column names? Include all columns in your dataset.\n",
    "    Column names include: Food product (type of food), Land use change, Animal feed, Farm, Processing, Transport, Packaging, Retail, Total emissions, Eutrophying emissions per 1000kcal, Eutrophying emissions per kilogram, Eutrophying emissions per 100g protein, Freshwater withdrawals per 1000kcal, Freshwater withdrawals per 100g protein, Freshwater withdrawals per kilogram, Greenhouse gas emissions per 1000kcal, Greenhouse gas emissions per 100g protein, Land use per 1000kcal, Land use per kilogram, Land use per 100g protein, Scarcity-weighted water use per kilogram, Scarcity-weighted water \n",
    "use per 100g protein, and Scarcity-weighted water use per 1000kcal.  \n",
    "\n",
    "If there are set variable options in your dataset, what are their definitions? \n",
    "    The Food Product variable is set with 43 specific food items.\n",
    "\n",
    "What are the regulations to using the data? \n",
    "    This data was publically sourced from Kaggle and OWID. No regulations except citing sources.\n",
    "    \n",
    "If you are referencing sources, be sure to include citations/references as needed.\n",
    "\n",
    "Ritchie, H., Rosado, P., & Roser, M. (2022, December 2). Environmental impacts of food production. Our World in Data. https://ourworldindata.org/environmental-impacts-of-food \n",
    "\n",
    "Vivek. (2020, August 4). Environment impact of food production. Kaggle. https://www.kaggle.com/datasets/selfvivek/environment-impact-of-food-production?resource=download "
   ]
  },
  {
   "cell_type": "markdown",
   "id": "4ca19ef3",
   "metadata": {
    "tags": []
   },
   "source": [
    "Link to Github account:https://github.com/PDscientist/PDscientist.git\n",
    "\n",
    "Link to README.md for our class repository: "
   ]
  }
 ],
 "metadata": {
  "kernelspec": {
   "display_name": "R",
   "language": "R",
   "name": "ir"
  },
  "language_info": {
   "codemirror_mode": "r",
   "file_extension": ".r",
   "mimetype": "text/x-r-source",
   "name": "R",
   "pygments_lexer": "r",
   "version": "4.3.2"
  }
 },
 "nbformat": 4,
 "nbformat_minor": 5
}
