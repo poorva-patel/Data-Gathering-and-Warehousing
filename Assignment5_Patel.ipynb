{
 "cells": [
  {
   "cell_type": "markdown",
   "id": "76827fdb",
   "metadata": {},
   "source": [
    "# Assignment #5 - Data Gathering and Warehousing - DSSA-5102\n",
    "\n",
    "Instructor: Melissa Laurino\n",
    "Spring 2024\n",
    "\n",
    "Name: Poorva Patel\n",
    "\n",
    "Date: 2/29/24\n",
    "\n",
    "  Only Murders in the...Database?\n",
    "An introduction to navigating SQL databases using R and Jupyter Notebook. \n",
    "\n",
    "Congrats! You have solved the murder from Assignment #4, let's practice more queries in SQL City!\n",
    "\n",
    "Your task for Assignment #5 is to complete the following objectives:\n",
    "\n",
    "You are a data scientist that was hired by SQL City. Your objectives are as follows:\n",
    "\n",
    "    Objective 1: The town is willing to fund more training for officers in SQL City based on the type of crime that is most committed. The training would help them identify the clues that indicate these two types upon arrival on a crime scene. As a data scientist, what crime type would you advise needs more training for officers in SQL city? What crime was committed the most in SQL City within the database date range? Save your query as a dataframe and quickly add a ggplot2 bar graph visual to support your recommendation.\n",
    "\n",
    "    Objective 2: The town has also received more funding to encourage DOUBLE overtime for officers in SQL City during the month with the highest crime rate through out the date range of the database. What month would you advise the town to encourage officer overtime? \n",
    "\n",
    "    Objective 3: To thank the officers for their extra training and overtime, the town will pay for their monthly gym membership. They want to give the officers the membership that the least amount of civilians have to avoid being recognized daily as the town heros. The membership can be used in any town. What membership does the town give them?\n",
    "    \n",
    "Add detailed comments to explain EVERY query or SQL command you use while we are still learning and practicing. I have my steps outlined, but please add more cells inbetween for additional queries! There is no limit on the number of queries you can use. \n",
    "For each query include comments such as \"SELECT all records FROM table WHERE column name = X\"\n",
    "Answer any prompts in markdown cells.\n",
    "\n",
    "Recommended Readings: Chapters 4-7 in Getting Started with SQL by Thomas Nield\n",
    "\n",
    "Basic usage of database commands in R with SQLite library: https://rsqlite.r-dbi.org/\n",
    "SQL Dictionary: https://www.w3schools.com/sql/sql_ref_join.asp\n",
    "\n",
    "This fabulous database was created by @NUKnightLab on Github and can be found here: https://github.com/NUKnightLab/sql-mysteries\n"
   ]
  },
  {
   "cell_type": "code",
   "execution_count": 1,
   "id": "7a472525-26fd-4c4a-acdb-2a9ca0f20f4c",
   "metadata": {
    "tags": []
   },
   "outputs": [],
   "source": [
    "library(\"RSQLite\")"
   ]
  },
  {
   "cell_type": "code",
   "execution_count": 2,
   "id": "89bc8e32",
   "metadata": {
    "tags": []
   },
   "outputs": [],
   "source": [
    "#Connect to our .db file using library RSQLite:\n",
    "db <- dbConnect(dbDriver(\"SQLite\"), dbname = \"sql-murder-mystery.db\")"
   ]
  },
  {
   "cell_type": "code",
   "execution_count": 3,
   "id": "3850f72a",
   "metadata": {
    "tags": []
   },
   "outputs": [
    {
     "name": "stdout",
     "output_type": "stream",
     "text": [
      "[1] \"crime_scene_report\"\n"
     ]
    },
    {
     "data": {
      "text/html": [
       "<style>\n",
       ".list-inline {list-style: none; margin:0; padding: 0}\n",
       ".list-inline>li {display: inline-block}\n",
       ".list-inline>li:not(:last-child)::after {content: \"\\00b7\"; padding: 0 .5ex}\n",
       "</style>\n",
       "<ol class=list-inline><li>'date'</li><li>'type'</li><li>'description'</li><li>'city'</li></ol>\n"
      ],
      "text/latex": [
       "\\begin{enumerate*}\n",
       "\\item 'date'\n",
       "\\item 'type'\n",
       "\\item 'description'\n",
       "\\item 'city'\n",
       "\\end{enumerate*}\n"
      ],
      "text/markdown": [
       "1. 'date'\n",
       "2. 'type'\n",
       "3. 'description'\n",
       "4. 'city'\n",
       "\n",
       "\n"
      ],
      "text/plain": [
       "[1] \"date\"        \"type\"        \"description\" \"city\"       "
      ]
     },
     "metadata": {},
     "output_type": "display_data"
    },
    {
     "name": "stdout",
     "output_type": "stream",
     "text": [
      "[1] \"drivers_license\"\n"
     ]
    },
    {
     "data": {
      "text/html": [
       "<style>\n",
       ".list-inline {list-style: none; margin:0; padding: 0}\n",
       ".list-inline>li {display: inline-block}\n",
       ".list-inline>li:not(:last-child)::after {content: \"\\00b7\"; padding: 0 .5ex}\n",
       "</style>\n",
       "<ol class=list-inline><li>'id'</li><li>'age'</li><li>'height'</li><li>'eye_color'</li><li>'hair_color'</li><li>'gender'</li><li>'plate_number'</li><li>'car_make'</li><li>'car_model'</li></ol>\n"
      ],
      "text/latex": [
       "\\begin{enumerate*}\n",
       "\\item 'id'\n",
       "\\item 'age'\n",
       "\\item 'height'\n",
       "\\item 'eye\\_color'\n",
       "\\item 'hair\\_color'\n",
       "\\item 'gender'\n",
       "\\item 'plate\\_number'\n",
       "\\item 'car\\_make'\n",
       "\\item 'car\\_model'\n",
       "\\end{enumerate*}\n"
      ],
      "text/markdown": [
       "1. 'id'\n",
       "2. 'age'\n",
       "3. 'height'\n",
       "4. 'eye_color'\n",
       "5. 'hair_color'\n",
       "6. 'gender'\n",
       "7. 'plate_number'\n",
       "8. 'car_make'\n",
       "9. 'car_model'\n",
       "\n",
       "\n"
      ],
      "text/plain": [
       "[1] \"id\"           \"age\"          \"height\"       \"eye_color\"    \"hair_color\"  \n",
       "[6] \"gender\"       \"plate_number\" \"car_make\"     \"car_model\"   "
      ]
     },
     "metadata": {},
     "output_type": "display_data"
    },
    {
     "name": "stdout",
     "output_type": "stream",
     "text": [
      "[1] \"Facebook_event_checkin\"\n"
     ]
    },
    {
     "data": {
      "text/html": [
       "<style>\n",
       ".list-inline {list-style: none; margin:0; padding: 0}\n",
       ".list-inline>li {display: inline-block}\n",
       ".list-inline>li:not(:last-child)::after {content: \"\\00b7\"; padding: 0 .5ex}\n",
       "</style>\n",
       "<ol class=list-inline><li>'person_id'</li><li>'event_id'</li><li>'event_name'</li><li>'date'</li></ol>\n"
      ],
      "text/latex": [
       "\\begin{enumerate*}\n",
       "\\item 'person\\_id'\n",
       "\\item 'event\\_id'\n",
       "\\item 'event\\_name'\n",
       "\\item 'date'\n",
       "\\end{enumerate*}\n"
      ],
      "text/markdown": [
       "1. 'person_id'\n",
       "2. 'event_id'\n",
       "3. 'event_name'\n",
       "4. 'date'\n",
       "\n",
       "\n"
      ],
      "text/plain": [
       "[1] \"person_id\"  \"event_id\"   \"event_name\" \"date\"      "
      ]
     },
     "metadata": {},
     "output_type": "display_data"
    },
    {
     "name": "stdout",
     "output_type": "stream",
     "text": [
      "[1] \"get_fit_now_check_in\"\n"
     ]
    },
    {
     "data": {
      "text/html": [
       "<style>\n",
       ".list-inline {list-style: none; margin:0; padding: 0}\n",
       ".list-inline>li {display: inline-block}\n",
       ".list-inline>li:not(:last-child)::after {content: \"\\00b7\"; padding: 0 .5ex}\n",
       "</style>\n",
       "<ol class=list-inline><li>'membership_id'</li><li>'check_in_date'</li><li>'check_in_time'</li><li>'check_out_time'</li></ol>\n"
      ],
      "text/latex": [
       "\\begin{enumerate*}\n",
       "\\item 'membership\\_id'\n",
       "\\item 'check\\_in\\_date'\n",
       "\\item 'check\\_in\\_time'\n",
       "\\item 'check\\_out\\_time'\n",
       "\\end{enumerate*}\n"
      ],
      "text/markdown": [
       "1. 'membership_id'\n",
       "2. 'check_in_date'\n",
       "3. 'check_in_time'\n",
       "4. 'check_out_time'\n",
       "\n",
       "\n"
      ],
      "text/plain": [
       "[1] \"membership_id\"  \"check_in_date\"  \"check_in_time\"  \"check_out_time\""
      ]
     },
     "metadata": {},
     "output_type": "display_data"
    },
    {
     "name": "stdout",
     "output_type": "stream",
     "text": [
      "[1] \"get_fit_now_member\"\n"
     ]
    },
    {
     "data": {
      "text/html": [
       "<style>\n",
       ".list-inline {list-style: none; margin:0; padding: 0}\n",
       ".list-inline>li {display: inline-block}\n",
       ".list-inline>li:not(:last-child)::after {content: \"\\00b7\"; padding: 0 .5ex}\n",
       "</style>\n",
       "<ol class=list-inline><li>'id'</li><li>'person_id'</li><li>'name'</li><li>'membership_start_date'</li><li>'membership_status'</li></ol>\n"
      ],
      "text/latex": [
       "\\begin{enumerate*}\n",
       "\\item 'id'\n",
       "\\item 'person\\_id'\n",
       "\\item 'name'\n",
       "\\item 'membership\\_start\\_date'\n",
       "\\item 'membership\\_status'\n",
       "\\end{enumerate*}\n"
      ],
      "text/markdown": [
       "1. 'id'\n",
       "2. 'person_id'\n",
       "3. 'name'\n",
       "4. 'membership_start_date'\n",
       "5. 'membership_status'\n",
       "\n",
       "\n"
      ],
      "text/plain": [
       "[1] \"id\"                    \"person_id\"             \"name\"                 \n",
       "[4] \"membership_start_date\" \"membership_status\"    "
      ]
     },
     "metadata": {},
     "output_type": "display_data"
    },
    {
     "name": "stdout",
     "output_type": "stream",
     "text": [
      "[1] \"income\"\n"
     ]
    },
    {
     "data": {
      "text/html": [
       "<style>\n",
       ".list-inline {list-style: none; margin:0; padding: 0}\n",
       ".list-inline>li {display: inline-block}\n",
       ".list-inline>li:not(:last-child)::after {content: \"\\00b7\"; padding: 0 .5ex}\n",
       "</style>\n",
       "<ol class=list-inline><li>'ssn'</li><li>'annual_income'</li></ol>\n"
      ],
      "text/latex": [
       "\\begin{enumerate*}\n",
       "\\item 'ssn'\n",
       "\\item 'annual\\_income'\n",
       "\\end{enumerate*}\n"
      ],
      "text/markdown": [
       "1. 'ssn'\n",
       "2. 'annual_income'\n",
       "\n",
       "\n"
      ],
      "text/plain": [
       "[1] \"ssn\"           \"annual_income\""
      ]
     },
     "metadata": {},
     "output_type": "display_data"
    },
    {
     "name": "stdout",
     "output_type": "stream",
     "text": [
      "[1] \"interview\"\n"
     ]
    },
    {
     "data": {
      "text/html": [
       "<style>\n",
       ".list-inline {list-style: none; margin:0; padding: 0}\n",
       ".list-inline>li {display: inline-block}\n",
       ".list-inline>li:not(:last-child)::after {content: \"\\00b7\"; padding: 0 .5ex}\n",
       "</style>\n",
       "<ol class=list-inline><li>'person_id'</li><li>'transcript'</li></ol>\n"
      ],
      "text/latex": [
       "\\begin{enumerate*}\n",
       "\\item 'person\\_id'\n",
       "\\item 'transcript'\n",
       "\\end{enumerate*}\n"
      ],
      "text/markdown": [
       "1. 'person_id'\n",
       "2. 'transcript'\n",
       "\n",
       "\n"
      ],
      "text/plain": [
       "[1] \"person_id\"  \"transcript\""
      ]
     },
     "metadata": {},
     "output_type": "display_data"
    },
    {
     "name": "stdout",
     "output_type": "stream",
     "text": [
      "[1] \"person\"\n"
     ]
    },
    {
     "data": {
      "text/html": [
       "<style>\n",
       ".list-inline {list-style: none; margin:0; padding: 0}\n",
       ".list-inline>li {display: inline-block}\n",
       ".list-inline>li:not(:last-child)::after {content: \"\\00b7\"; padding: 0 .5ex}\n",
       "</style>\n",
       "<ol class=list-inline><li>'id'</li><li>'name'</li><li>'license_id'</li><li>'address_number'</li><li>'address_street_name'</li><li>'ssn'</li></ol>\n"
      ],
      "text/latex": [
       "\\begin{enumerate*}\n",
       "\\item 'id'\n",
       "\\item 'name'\n",
       "\\item 'license\\_id'\n",
       "\\item 'address\\_number'\n",
       "\\item 'address\\_street\\_name'\n",
       "\\item 'ssn'\n",
       "\\end{enumerate*}\n"
      ],
      "text/markdown": [
       "1. 'id'\n",
       "2. 'name'\n",
       "3. 'license_id'\n",
       "4. 'address_number'\n",
       "5. 'address_street_name'\n",
       "6. 'ssn'\n",
       "\n",
       "\n"
      ],
      "text/plain": [
       "[1] \"id\"                  \"name\"                \"license_id\"         \n",
       "[4] \"address_number\"      \"address_street_name\" \"ssn\"                "
      ]
     },
     "metadata": {},
     "output_type": "display_data"
    },
    {
     "name": "stdout",
     "output_type": "stream",
     "text": [
      "[1] \"solution\"\n"
     ]
    },
    {
     "data": {
      "text/html": [
       "<style>\n",
       ".list-inline {list-style: none; margin:0; padding: 0}\n",
       ".list-inline>li {display: inline-block}\n",
       ".list-inline>li:not(:last-child)::after {content: \"\\00b7\"; padding: 0 .5ex}\n",
       "</style>\n",
       "<ol class=list-inline><li>'user'</li><li>'value'</li></ol>\n"
      ],
      "text/latex": [
       "\\begin{enumerate*}\n",
       "\\item 'user'\n",
       "\\item 'value'\n",
       "\\end{enumerate*}\n"
      ],
      "text/markdown": [
       "1. 'user'\n",
       "2. 'value'\n",
       "\n",
       "\n"
      ],
      "text/plain": [
       "[1] \"user\"  \"value\""
      ]
     },
     "metadata": {},
     "output_type": "display_data"
    }
   ],
   "source": [
    "#For a quick reference for tables and columns, refer to schema on Blackboard, or run code below:\n",
    "#What are the column names for each table? What table will help us get to the next clue?\n",
    "print(\"crime_scene_report\") \n",
    "dbListFields(db, 'crime_scene_report')\n",
    "print(\"drivers_license\") \n",
    "dbListFields(db, 'drivers_license')\n",
    "print(\"Facebook_event_checkin\") \n",
    "dbListFields(db, 'facebook_event_checkin')\n",
    "print(\"get_fit_now_check_in\") \n",
    "dbListFields(db, 'get_fit_now_check_in')\n",
    "print(\"get_fit_now_member\") \n",
    "dbListFields(db, 'get_fit_now_member')\n",
    "print(\"income\") \n",
    "dbListFields(db, 'income')\n",
    "print(\"interview\") \n",
    "dbListFields(db, 'interview')\n",
    "print(\"person\") \n",
    "dbListFields(db, 'person')\n",
    "print(\"solution\") \n",
    "dbListFields(db, 'solution')"
   ]
  },
  {
   "cell_type": "markdown",
   "id": "25e53d9b",
   "metadata": {},
   "source": [
    "We can use the COUNT command to explore our queries further. COUNT will count the number of records that meet the specified criteria.\n",
    "Additional examples using COUNT: https://www.w3schools.com/sql/sql_count.asp"
   ]
  },
  {
   "cell_type": "code",
   "execution_count": 4,
   "id": "20476b98",
   "metadata": {
    "collapsed": true,
    "jupyter": {
     "outputs_hidden": true
    },
    "tags": []
   },
   "outputs": [
    {
     "data": {
      "text/html": [
       "<table class=\"dataframe\">\n",
       "<caption>A data.frame: 10 × 2</caption>\n",
       "<thead>\n",
       "\t<tr><th scope=col>city</th><th scope=col>count</th></tr>\n",
       "\t<tr><th scope=col>&lt;chr&gt;</th><th scope=col>&lt;int&gt;</th></tr>\n",
       "</thead>\n",
       "<tbody>\n",
       "\t<tr><td>SQL City    </td><td>9</td></tr>\n",
       "\t<tr><td>Murfreesboro</td><td>9</td></tr>\n",
       "\t<tr><td>Toledo      </td><td>8</td></tr>\n",
       "\t<tr><td>Jersey City </td><td>8</td></tr>\n",
       "\t<tr><td>Evansville  </td><td>8</td></tr>\n",
       "\t<tr><td>Duluth      </td><td>8</td></tr>\n",
       "\t<tr><td>Wilmington  </td><td>7</td></tr>\n",
       "\t<tr><td>Waterbury   </td><td>7</td></tr>\n",
       "\t<tr><td>Reno        </td><td>7</td></tr>\n",
       "\t<tr><td>Portsmouth  </td><td>7</td></tr>\n",
       "</tbody>\n",
       "</table>\n"
      ],
      "text/latex": [
       "A data.frame: 10 × 2\n",
       "\\begin{tabular}{ll}\n",
       " city & count\\\\\n",
       " <chr> & <int>\\\\\n",
       "\\hline\n",
       "\t SQL City     & 9\\\\\n",
       "\t Murfreesboro & 9\\\\\n",
       "\t Toledo       & 8\\\\\n",
       "\t Jersey City  & 8\\\\\n",
       "\t Evansville   & 8\\\\\n",
       "\t Duluth       & 8\\\\\n",
       "\t Wilmington   & 7\\\\\n",
       "\t Waterbury    & 7\\\\\n",
       "\t Reno         & 7\\\\\n",
       "\t Portsmouth   & 7\\\\\n",
       "\\end{tabular}\n"
      ],
      "text/markdown": [
       "\n",
       "A data.frame: 10 × 2\n",
       "\n",
       "| city &lt;chr&gt; | count &lt;int&gt; |\n",
       "|---|---|\n",
       "| SQL City     | 9 |\n",
       "| Murfreesboro | 9 |\n",
       "| Toledo       | 8 |\n",
       "| Jersey City  | 8 |\n",
       "| Evansville   | 8 |\n",
       "| Duluth       | 8 |\n",
       "| Wilmington   | 7 |\n",
       "| Waterbury    | 7 |\n",
       "| Reno         | 7 |\n",
       "| Portsmouth   | 7 |\n",
       "\n"
      ],
      "text/plain": [
       "   city         count\n",
       "1  SQL City     9    \n",
       "2  Murfreesboro 9    \n",
       "3  Toledo       8    \n",
       "4  Jersey City  8    \n",
       "5  Evansville   8    \n",
       "6  Duluth       8    \n",
       "7  Wilmington   7    \n",
       "8  Waterbury    7    \n",
       "9  Reno         7    \n",
       "10 Portsmouth   7    "
      ]
     },
     "metadata": {},
     "output_type": "display_data"
    }
   ],
   "source": [
    "#Practice analyzing COUNTS in data tables with SQL queries:\n",
    "#Brainstorming for Objective 1\n",
    "#We can find the top ten cities within our Murder Mystery database that had the most crimes by using the COUNT SQL command.\n",
    "#SELECT the cities that have the most counts within the table crime_scene_report and\n",
    "#GROUP the results BY city and ORDER BY a DESC count, only show a limit of 10 records:\n",
    "practice_cities <- dbSendQuery(db, \"SELECT city, COUNT(*) as count\n",
    "                            From crime_scene_report\n",
    "                            GROUP BY city\n",
    "                            ORDER BY count DESC\n",
    "                            LIMIT 10\")\n",
    "dbFetch(practice_cities)\n",
    "\n",
    "#Looks like SQL City and Murfeesboro have the highest number of crimes! \n",
    "\n",
    "#Use COUNT(*) as count to determine the answers to the objectives below. "
   ]
  },
  {
   "cell_type": "markdown",
   "id": "93702940",
   "metadata": {},
   "source": [
    "<b>Objective 1:</b> The town is willing to fund more training for officers in SQL City based on the type of crime that is most committed. The training would help them identify the clues that indicate these two types upon arrival on a crime scene. As a data scientist, what crime type would you advise needs more training for officers in SQL city? What crime was committed the most in SQL City within the database date range? Save your query as a dataframe and quickly add a ggplot2 bar graph visual to support your recommendation."
   ]
  },
  {
   "cell_type": "code",
   "execution_count": 10,
   "id": "2079946e",
   "metadata": {
    "tags": []
   },
   "outputs": [],
   "source": [
    "#Quick graphing library for a visual for objective 1:\n",
    "library('ggplot2')"
   ]
  },
  {
   "cell_type": "code",
   "execution_count": 19,
   "id": "dc9a43c8",
   "metadata": {
    "collapsed": true,
    "jupyter": {
     "outputs_hidden": true
    },
    "tags": []
   },
   "outputs": [
    {
     "name": "stderr",
     "output_type": "stream",
     "text": [
      "Warning message:\n",
      "“Closing open result set, pending rows”\n"
     ]
    },
    {
     "name": "stdout",
     "output_type": "stream",
     "text": [
      "       type count\n",
      "1    murder   148\n",
      "2     arson   148\n",
      "3   assault   145\n",
      "4     theft   141\n",
      "5   bribery   135\n",
      "6   robbery   134\n",
      "7     fraud   130\n",
      "8 blackmail   130\n",
      "9 smuggling   117\n"
     ]
    }
   ],
   "source": [
    "objective1 <- dbSendQuery(db, \"SELECT type, COUNT(*) as count\n",
    "                            From crime_scene_report\n",
    "                            GROUP BY type\n",
    "                            ORDER BY count DESC\n",
    "                            LIMIT 10\")\n",
    "#Save our query into a dataframe that we can use to visualize results in ggplot2:\n",
    "objective1_dataframe <- dbFetch(objective1)\n",
    "print(objective1_dataframe)\n"
   ]
  },
  {
   "cell_type": "code",
   "execution_count": 20,
   "id": "e99bfad0",
   "metadata": {
    "collapsed": true,
    "jupyter": {
     "outputs_hidden": true
    },
    "tags": []
   },
   "outputs": [
    {
     "data": {
      "image/png": "[encoded data removed]",
      "text/plain": [
       "plot without title"
      ]
     },
     "metadata": {
      "image/png": {
       "height": 420,
       "width": 420
      }
     },
     "output_type": "display_data"
    }
   ],
   "source": [
    "#Graph our results:\n",
    "\n",
    "ggplot(objective1_dataframe, aes(x = type, y = count, fill = type)) + #structure of graph\n",
    "  geom_bar(stat = \"identity\") + \n",
    "  theme_minimal() + \n",
    "  labs(title = \"Crime Count by Type in SQL City\", #create labels\n",
    "       x = \"Type of Crime\",\n",
    "       y = \"Count\") + \n",
    "  theme(axis.text.x = element_text(angle = 65, hjust = 1)) + #adjust axis\n",
    "  scale_fill_brewer(palette = \"Paired\") #color\n"
   ]
  },
  {
   "cell_type": "markdown",
   "id": "a8007ef0",
   "metadata": {},
   "source": [
    "Answer:The two types of crime are murder and arson."
   ]
  },
  {
   "cell_type": "markdown",
   "id": "f8df6bf8",
   "metadata": {},
   "source": [
    "<b>Objective 2:</b> The town has also received more funding to encourage DOUBLE overtime for officers in SQL City during the month with the highest crime rate through out the date range of the database. What month would you advise the town to encourage officer overtime?"
   ]
  },
  {
   "cell_type": "code",
   "execution_count": 42,
   "id": "02dcba2e",
   "metadata": {
    "tags": []
   },
   "outputs": [
    {
     "name": "stdout",
     "output_type": "stream",
     "text": [
      "    month count\n",
      "1 2017062    40\n"
     ]
    }
   ],
   "source": [
    "objective2 <- dbSendQuery(db, \"SELECT SUBSTR(date, 1, 7) AS month, COUNT(*) as count\n",
    "                               FROM crime_scene_report\n",
    "                               WHERE date IS NOT NULL AND date != ''  -- Ensure that date is not null or empty\n",
    "                               GROUP BY month\n",
    "                               ORDER BY count DESC\n",
    "                               LIMIT 1\")\n",
    "\n",
    "objective2_dataframe <- dbFetch(objective2)\n",
    "print(objective2_dataframe)\n"
   ]
  },
  {
   "cell_type": "markdown",
   "id": "b5524834",
   "metadata": {},
   "source": [
    "Answer: The month of June."
   ]
  },
  {
   "cell_type": "markdown",
   "id": "51313b07",
   "metadata": {},
   "source": [
    "<b>Objective 3:</b> To thank the officers for their extra training and overtime, the town will pay for their monthly gym membership. They want to give the officers the membership that the least amount of civilians have to avoid being recognized daily as the town heros. The membership can be used in any town. What membership does the town give them?"
   ]
  },
  {
   "cell_type": "code",
   "execution_count": 43,
   "id": "317f86a1",
   "metadata": {
    "tags": []
   },
   "outputs": [
    {
     "name": "stderr",
     "output_type": "stream",
     "text": [
      "Warning message:\n",
      "“Closing open result set, pending rows”\n"
     ]
    },
    {
     "name": "stdout",
     "output_type": "stream",
     "text": [
      "  membership_status count\n",
      "1              gold    68\n",
      "2            silver    63\n",
      "3           regular    53\n"
     ]
    }
   ],
   "source": [
    "objective3 <-  dbSendQuery(db, \"SELECT membership_status, COUNT(*) as count\n",
    "                            From get_fit_now_member\n",
    "                            GROUP BY membership_status\n",
    "                            ORDER BY count DESC\n",
    "                            LIMIT 10\")\n",
    "\n",
    "objective3_dataframe <- dbFetch(objective3)\n",
    "print(objective3_dataframe)\n",
    "\n"
   ]
  },
  {
   "cell_type": "markdown",
   "id": "d3519f15",
   "metadata": {},
   "source": [
    "Answer: The regular membership."
   ]
  },
  {
   "cell_type": "code",
   "execution_count": 45,
   "id": "68e82785",
   "metadata": {
    "tags": []
   },
   "outputs": [
    {
     "name": "stderr",
     "output_type": "stream",
     "text": [
      "Warning message in connection_release(conn@ptr):\n",
      "“Already disconnected”\n"
     ]
    }
   ],
   "source": [
    "#Disconnect from the database. Always remember to disconnect :) \n",
    "dbDisconnect(db)\n"
   ]
  },
  {
   "cell_type": "code",
   "execution_count": null,
   "id": "556058a1-d27c-4673-907c-3341f26d2008",
   "metadata": {},
   "outputs": [],
   "source": []
  }
 ],
 "metadata": {
  "kernelspec": {
   "display_name": "R",
   "language": "R",
   "name": "ir"
  },
  "language_info": {
   "codemirror_mode": "r",
   "file_extension": ".r",
   "mimetype": "text/x-r-source",
   "name": "R",
   "pygments_lexer": "r",
   "version": "4.3.2"
  }
 },
 "nbformat": 4,
 "nbformat_minor": 5
}
