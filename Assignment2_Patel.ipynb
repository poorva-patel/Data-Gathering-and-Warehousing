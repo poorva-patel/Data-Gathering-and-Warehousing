{
 "cells": [
  {
   "cell_type": "markdown",
   "id": "dd83ad4c",
   "metadata": {},
   "source": [
    "# Assignment #2 - Data Gathering and Warehousing - DSSA-5102"
   ]
  },
  {
   "cell_type": "markdown",
   "id": "82f5c357",
   "metadata": {},
   "source": [
    "Instructor: Melissa Laurino\n",
    "Spring 2024\n",
    "Name: Poorva Patel\n",
    "Date:2/2/24"
   ]
  },
  {
   "cell_type": "markdown",
   "id": "c9caf54a",
   "metadata": {
    "jupyter": {
     "source_hidden": true
    },
    "tags": []
   },
   "source": [
    "Our next objective is to choose <b>ONE</b> of the datasets from our previous assignment to explore further. The datasets we have chose for Assignment #1 are managable to clean in R (Or Python if that is what you prefer to explore, see the technology check for working with Python in R in Jupyter notebook). Depending on your data, and especially the size of it, it may be more beneficial to clean in a language we are comfortable working in already instead of cleaning our data in SQL. SQL may be needed for cleaning of databases that are very large or hundreds of terabytes in size. We will clean our datasets first before we attempt to load them into our SQL databases. </br>\n",
    "Not only is data everywhere, but it can also be messy. Messy data can originate in the data collection process, whether this is occurring with manual data entry and typos, or with outdated collection forms that hold multiple variables that mean the same thing. For example, while collecting data on marine mammals, it is important to note who the observer is. With Python and R, reading excel or csv files, these languages will take the same variable written as, \"Melissa Laurino\" and \"melissa laurino\" as two separate observers because they are case sensitive. However, this is not accurate because they are meant to be the same person within the observer column or category.</br>\n",
    "Clean data is important for consistency that leads to accurate results and analysis. If we are using our data to make informed decisions in our field, we need it to be clean. We do not want to omit rows that may make a difference to our dataset because they do not fit a certain criteria due to typos, but how much should the original dataset be altered? Depending on your field, there may be regulations and compliance standards regarding data quality. Protocols may state if the data does not read exactly how it should be, then it should be ommitted. </br>\n",
    "For our learning objectives in this class, we will clean our data. Our first assignment in our warehousing journey was important because it allowed us to gain a better understanding of a dataset that we personally did not collect. Now that we have that understanding, we can explore it in greater depth and clean it as necessary.<br>\n",
    "<br>\n",
    "It is important when cleaning data to: <br>\n",
    "*Make detailed comments with your code* <br>\n",
    "*Record EVERYTHING ommitted and changed if necessary* <br>\n",
    "*Since we are exploring and learning without a specific organization policy, use your best judgement when ommitting records. If you have chosen to ommit data, please explain why.*</br>\n",
    "<br>\n",
    "<b>The code that I have written below is just to give you ideas on exploring and cleaning data. It is encouraged that you explore and clean it in greater detail than what I have written below for full credit.</b><br>\n",
    "Additional examples: https://epirhandbook.com/en/cleaning-data-and-core-functions.html"
   ]
  },
  {
   "cell_type": "code",
   "execution_count": null,
   "id": "dbfd4dec-b426-45f8-95d6-be394884f539",
   "metadata": {},
   "outputs": [],
   "source": [
    "Dataset name:Environmental Impact of Food Production \n",
    "              (Food_Production.csv)\n",
    "Company/Government Organization: Our World in Data\n",
    "Download link: https://www.kaggle.com/datasets/selfvivek/environment-impact-of-food-production?resource=download"
   ]
  },
  {
   "cell_type": "markdown",
   "id": "f49eb1b9",
   "metadata": {},
   "source": [
    "Load necessary libraries:"
   ]
  },
  {
   "cell_type": "code",
   "execution_count": 1,
   "id": "19aaec1b",
   "metadata": {
    "collapsed": true,
    "jupyter": {
     "outputs_hidden": true
    },
    "tags": []
   },
   "outputs": [
    {
     "name": "stderr",
     "output_type": "stream",
     "text": [
      "── \u001b[1mAttaching core tidyverse packages\u001b[22m ──────────────────────── tidyverse 2.0.0 ──\n",
      "\u001b[32m✔\u001b[39m \u001b[34mdplyr    \u001b[39m 1.1.4     \u001b[32m✔\u001b[39m \u001b[34mreadr    \u001b[39m 2.1.5\n",
      "\u001b[32m✔\u001b[39m \u001b[34mforcats  \u001b[39m 1.0.0     \u001b[32m✔\u001b[39m \u001b[34mstringr  \u001b[39m 1.5.1\n",
      "\u001b[32m✔\u001b[39m \u001b[34mggplot2  \u001b[39m 3.4.4     \u001b[32m✔\u001b[39m \u001b[34mtibble   \u001b[39m 3.2.1\n",
      "\u001b[32m✔\u001b[39m \u001b[34mlubridate\u001b[39m 1.9.3     \u001b[32m✔\u001b[39m \u001b[34mtidyr    \u001b[39m 1.3.0\n",
      "\u001b[32m✔\u001b[39m \u001b[34mpurrr    \u001b[39m 1.0.2     \n",
      "── \u001b[1mConflicts\u001b[22m ────────────────────────────────────────── tidyverse_conflicts() ──\n",
      "\u001b[31m✖\u001b[39m \u001b[34mdplyr\u001b[39m::\u001b[32mfilter()\u001b[39m masks \u001b[34mstats\u001b[39m::filter()\n",
      "\u001b[31m✖\u001b[39m \u001b[34mdplyr\u001b[39m::\u001b[32mlag()\u001b[39m    masks \u001b[34mstats\u001b[39m::lag()\n",
      "\u001b[36mℹ\u001b[39m Use the conflicted package (\u001b[3m\u001b[34m<http://conflicted.r-lib.org/>\u001b[39m\u001b[23m) to force all conflicts to become errors\n"
     ]
    }
   ],
   "source": [
    "#My example libraries are below, but edit as needed to fit your dataset:\n",
    "#install.packages(\"tidyverse\") Use install.packages() to install any necessary libraries.\n",
    "library(tidyverse) #Reading data\n",
    "library(lubridate) #Reading and manipulating dates and times\n",
    "library(readr) #Reading the CSV data file\n",
    "\n",
    "#Be sure to document each line of code like the above example.\n",
    "#Documenting each line of code is helpful when revisiting assignments later in the semester."
   ]
  },
  {
   "cell_type": "markdown",
   "id": "2ce47a72",
   "metadata": {},
   "source": [
    "Load data into R:"
   ]
  },
  {
   "cell_type": "code",
   "execution_count": 1,
   "id": "8ec0dfd0",
   "metadata": {},
   "outputs": [],
   "source": [
    "food <-read.csv(\"Food_Production.csv\")"
   ]
  },
  {
   "cell_type": "markdown",
   "id": "cd089937",
   "metadata": {},
   "source": [
    "Exploration before cleaning:"
   ]
  },
  {
   "cell_type": "code",
   "execution_count": 3,
   "id": "29f2f5bc",
   "metadata": {
    "collapsed": true,
    "jupyter": {
     "outputs_hidden": true
    },
    "tags": []
   },
   "outputs": [
    {
     "name": "stdout",
     "output_type": "stream",
     "text": [
      "'data.frame':\t43 obs. of  23 variables:\n",
      " $ Food.product                                                           : chr  \"Wheat & Rye (Bread)\" \"Maize (Meal)\" \"Barley (Beer)\" \"Oatmeal\" ...\n",
      " $ Land.use.change                                                        : num  0.1 0.3 0 0 0 0 0.6 1.2 0 0 ...\n",
      " $ Animal.Feed                                                            : num  0 0 0 0 0 0 0 0 0 0 ...\n",
      " $ Farm                                                                   : num  0.8 0.5 0.2 1.4 3.6 0.2 0.2 0.5 0.5 1.1 ...\n",
      " $ Processing                                                             : num  0.2 0.1 0.1 0 0.1 0 0 0 0.2 0 ...\n",
      " $ Transport                                                              : num  0.1 0.1 0 0.1 0.1 0.1 0.1 0.8 0.6 0.1 ...\n",
      " $ Packging                                                               : num  0.1 0.1 0.5 0.1 0.1 0 0 0.1 0.1 0.4 ...\n",
      " $ Retail                                                                 : num  0.1 0 0.3 0 0.1 0 0 0 0 0 ...\n",
      " $ Total_emissions                                                        : num  1.4 1.1 1.1 1.6 4 0.3 0.9 2.6 1.4 1.6 ...\n",
      " $ Eutrophying.emissions.per.1000kcal..gPO.eq.per.1000kcal.               : num  NA NA NA 4.28 9.51 ...\n",
      " $ Eutrophying.emissions.per.kilogram..gPO.eq.per.kilogram.               : num  NA NA NA 11.2 35.1 ...\n",
      " $ Eutrophying.emissions.per.100g.protein..gPO.eq.per.100.grams.protein.  : num  NA NA NA 8.64 49.39 ...\n",
      " $ Freshwater.withdrawals.per.1000kcal..liters.per.1000kcal.              : num  NA NA NA 184 610 ...\n",
      " $ Freshwater.withdrawals.per.100g.protein..liters.per.100g.protein.      : num  NA NA NA 371 3167 ...\n",
      " $ Freshwater.withdrawals.per.kilogram..liters.per.kilogram.              : num  NA NA NA 482 2248 ...\n",
      " $ Greenhouse.gas.emissions.per.1000kcal..kgCO.eq.per.1000kcal.           : num  NA NA NA 0.945 1.207 ...\n",
      " $ Greenhouse.gas.emissions.per.100g.protein..kgCO.eq.per.100g.protein.   : num  NA NA NA 1.91 6.27 ...\n",
      " $ Land.use.per.1000kcal..m..per.1000kcal.                                : num  NA NA NA 2.9 0.76 ...\n",
      " $ Land.use.per.kilogram..m..per.kilogram.                                : num  NA NA NA 7.6 2.8 ...\n",
      " $ Land.use.per.100g.protein..m..per.100g.protein.                        : num  NA NA NA 5.85 3.94 ...\n",
      " $ Scarcity.weighted.water.use.per.kilogram..liters.per.kilogram.         : num  NA NA NA 18786 49576 ...\n",
      " $ Scarcity.weighted.water.use.per.100g.protein..liters.per.100g.protein. : num  NA NA NA 14451 69826 ...\n",
      " $ Scarcity.weighted.water.use.per.1000kcal..liters.per.1000.kilocalories.: num  NA NA NA 7162 13450 ...\n"
     ]
    },
    {
     "data": {
      "text/plain": [
       " Food.product       Land.use.change  Animal.Feed          Farm      \n",
       " Length:43          Min.   :-2.10   Min.   :0.0000   Min.   : 0.10  \n",
       " Class :character   1st Qu.: 0.00   1st Qu.:0.0000   1st Qu.: 0.35  \n",
       " Mode  :character   Median : 0.20   Median :0.0000   Median : 0.80  \n",
       "                    Mean   : 1.26   Mean   :0.4535   Mean   : 3.47  \n",
       "                    3rd Qu.: 0.80   3rd Qu.:0.0000   3rd Qu.: 2.20  \n",
       "                    Max.   :16.30   Max.   :2.9000   Max.   :39.40  \n",
       "                                                                    \n",
       "   Processing       Transport         Packging          Retail       \n",
       " Min.   :0.0000   Min.   :0.0000   Min.   :0.0000   Min.   :0.00000  \n",
       " 1st Qu.:0.0000   1st Qu.:0.1000   1st Qu.:0.1000   1st Qu.:0.00000  \n",
       " Median :0.1000   Median :0.1000   Median :0.1000   Median :0.00000  \n",
       " Mean   :0.2535   Mean   :0.1953   Mean   :0.2698   Mean   :0.06977  \n",
       " 3rd Qu.:0.3000   3rd Qu.:0.2000   3rd Qu.:0.3000   3rd Qu.:0.15000  \n",
       " Max.   :1.3000   Max.   :0.8000   Max.   :1.6000   Max.   :0.30000  \n",
       "                                                                     \n",
       " Total_emissions  Eutrophying.emissions.per.1000kcal..gPO.eq.per.1000kcal.\n",
       " Min.   : 0.200   Min.   :  0.7084                                        \n",
       " 1st Qu.: 0.850   1st Qu.:  4.2149                                        \n",
       " Median : 1.600   Median :  7.0000                                        \n",
       " Mean   : 5.972   Mean   : 27.1816                                        \n",
       " 3rd Qu.: 6.000   3rd Qu.: 26.3243                                        \n",
       " Max.   :59.600   Max.   :197.3571                                        \n",
       "                  NA's   :10                                              \n",
       " Eutrophying.emissions.per.kilogram..gPO.eq.per.kilogram.\n",
       " Min.   :  0.690                                         \n",
       " 1st Qu.:  3.752                                         \n",
       " Median : 11.460                                         \n",
       " Mean   : 46.141                                         \n",
       " 3rd Qu.: 45.840                                         \n",
       " Max.   :365.290                                         \n",
       " NA's   :5                                               \n",
       " Eutrophying.emissions.per.100g.protein..gPO.eq.per.100.grams.protein.\n",
       " Min.   :  3.384                                                      \n",
       " 1st Qu.: 17.855                                                      \n",
       " Median : 37.333                                                      \n",
       " Mean   : 52.772                                                      \n",
       " 3rd Qu.: 55.297                                                      \n",
       " Max.   :185.051                                                      \n",
       " NA's   :16                                                           \n",
       " Freshwater.withdrawals.per.1000kcal..liters.per.1000kcal.\n",
       " Min.   :   0.724                                         \n",
       " 1st Qu.: 106.928                                         \n",
       " Median : 338.059                                         \n",
       " Mean   : 504.189                                         \n",
       " 3rd Qu.: 694.805                                         \n",
       " Max.   :2062.179                                         \n",
       " NA's   :13                                               \n",
       " Freshwater.withdrawals.per.100g.protein..liters.per.100g.protein.\n",
       " Min.   :  32.38                                                  \n",
       " 1st Qu.: 373.57                                                  \n",
       " Median :1083.33                                                  \n",
       " Mean   :1437.97                                                  \n",
       " 3rd Qu.:1832.39                                                  \n",
       " Max.   :6003.33                                                  \n",
       " NA's   :17                                                       \n",
       " Freshwater.withdrawals.per.kilogram..liters.per.kilogram.\n",
       " Min.   :   0.0                                           \n",
       " 1st Qu.: 105.5                                           \n",
       " Median : 417.1                                           \n",
       " Mean   : 932.6                                           \n",
       " 3rd Qu.:1340.4                                           \n",
       " Max.   :5605.2                                           \n",
       " NA's   :5                                                \n",
       " Greenhouse.gas.emissions.per.1000kcal..kgCO.eq.per.1000kcal.\n",
       " Min.   : 0.06992                                            \n",
       " 1st Qu.: 0.62842                                            \n",
       " Median : 1.35135                                            \n",
       " Mean   : 5.63394                                            \n",
       " 3rd Qu.: 5.33514                                            \n",
       " Max.   :50.94643                                            \n",
       " NA's   :10                                                  \n",
       " Greenhouse.gas.emissions.per.100g.protein..kgCO.eq.per.100g.protein.\n",
       " Min.   : 0.2633                                                     \n",
       " 1st Qu.: 4.0274                                                     \n",
       " Median : 6.5000                                                     \n",
       " Mean   :13.5249                                                     \n",
       " 3rd Qu.:14.9833                                                     \n",
       " Max.   :93.3000                                                     \n",
       " NA's   :16                                                          \n",
       " Land.use.per.1000kcal..m..per.1000kcal.\n",
       " Min.   :  0.2738                       \n",
       " 1st Qu.:  1.3125                       \n",
       " Median :  2.9762                       \n",
       " Mean   : 12.4232                       \n",
       " 3rd Qu.:  6.6054                       \n",
       " Max.   :119.4908                       \n",
       " NA's   :10                             \n",
       " Land.use.per.kilogram..m..per.kilogram.\n",
       " Min.   :  0.330                        \n",
       " 1st Qu.:  1.113                        \n",
       " Median :  6.865                        \n",
       " Mean   : 29.265                        \n",
       " 3rd Qu.: 14.918                        \n",
       " Max.   :369.810                        \n",
       " NA's   :5                              \n",
       " Land.use.per.100g.protein..m..per.100g.protein.\n",
       " Min.   :  3.000                                \n",
       " 1st Qu.:  5.088                                \n",
       " Median :  7.936                                \n",
       " Mean   : 29.105                                \n",
       " 3rd Qu.: 23.002                                \n",
       " Max.   :184.813                                \n",
       " NA's   :16                                     \n",
       " Scarcity.weighted.water.use.per.kilogram..liters.per.kilogram.\n",
       " Min.   :     0                                                \n",
       " 1st Qu.:  3325                                                \n",
       " Median : 14533                                                \n",
       " Mean   : 36607                                                \n",
       " 3rd Qu.: 35960                                                \n",
       " Max.   :229890                                                \n",
       " NA's   :5                                                     \n",
       " Scarcity.weighted.water.use.per.100g.protein..liters.per.100g.protein.\n",
       " Min.   :   421.2                                                      \n",
       " 1st Qu.: 11018.4                                                      \n",
       " Median : 20917.2                                                      \n",
       " Mean   : 59196.4                                                      \n",
       " 3rd Qu.: 70651.7                                                      \n",
       " Max.   :431620.0                                                      \n",
       " NA's   :17                                                            \n",
       " Scarcity.weighted.water.use.per.1000kcal..liters.per.1000.kilocalories.\n",
       " Min.   :    4.1                                                        \n",
       " 1st Qu.: 2969.1                                                        \n",
       " Median :12605.3                                                        \n",
       " Mean   :17380.6                                                        \n",
       " 3rd Qu.:28056.5                                                        \n",
       " Max.   :49735.9                                                        \n",
       " NA's   :13                                                             "
      ]
     },
     "metadata": {},
     "output_type": "display_data"
    }
   ],
   "source": [
    "#Display the structure of the dataset\n",
    "str(food)\n",
    "\n",
    "#Display a summary of the dataset\n",
    "summary(food)"
   ]
  },
  {
   "cell_type": "code",
   "execution_count": 5,
   "id": "b24bbe81",
   "metadata": {
    "tags": []
   },
   "outputs": [
    {
     "name": "stdout",
     "output_type": "stream",
     "text": [
      "                                                           Food.product \n",
      "                                                                      0 \n",
      "                                                        Land.use.change \n",
      "                                                                      0 \n",
      "                                                            Animal.Feed \n",
      "                                                                      0 \n",
      "                                                                   Farm \n",
      "                                                                      0 \n",
      "                                                             Processing \n",
      "                                                                      0 \n",
      "                                                              Transport \n",
      "                                                                      0 \n",
      "                                                               Packging \n",
      "                                                                      0 \n",
      "                                                                 Retail \n",
      "                                                                      0 \n",
      "                                                        Total_emissions \n",
      "                                                                      0 \n",
      "               Eutrophying.emissions.per.1000kcal..gPO.eq.per.1000kcal. \n",
      "                                                                     10 \n",
      "               Eutrophying.emissions.per.kilogram..gPO.eq.per.kilogram. \n",
      "                                                                      5 \n",
      "  Eutrophying.emissions.per.100g.protein..gPO.eq.per.100.grams.protein. \n",
      "                                                                     16 \n",
      "              Freshwater.withdrawals.per.1000kcal..liters.per.1000kcal. \n",
      "                                                                     13 \n",
      "      Freshwater.withdrawals.per.100g.protein..liters.per.100g.protein. \n",
      "                                                                     17 \n",
      "              Freshwater.withdrawals.per.kilogram..liters.per.kilogram. \n",
      "                                                                      5 \n",
      "           Greenhouse.gas.emissions.per.1000kcal..kgCO.eq.per.1000kcal. \n",
      "                                                                     10 \n",
      "   Greenhouse.gas.emissions.per.100g.protein..kgCO.eq.per.100g.protein. \n",
      "                                                                     16 \n",
      "                                Land.use.per.1000kcal..m..per.1000kcal. \n",
      "                                                                     10 \n",
      "                                Land.use.per.kilogram..m..per.kilogram. \n",
      "                                                                      5 \n",
      "                        Land.use.per.100g.protein..m..per.100g.protein. \n",
      "                                                                     16 \n",
      "         Scarcity.weighted.water.use.per.kilogram..liters.per.kilogram. \n",
      "                                                                      5 \n",
      " Scarcity.weighted.water.use.per.100g.protein..liters.per.100g.protein. \n",
      "                                                                     17 \n",
      "Scarcity.weighted.water.use.per.1000kcal..liters.per.1000.kilocalories. \n",
      "                                                                     13 \n"
     ]
    }
   ],
   "source": [
    "#Check for missing values\n",
    "missing_values <- colSums(is.na(food))\n",
    "print(missing_values)"
   ]
  },
  {
   "cell_type": "markdown",
   "id": "13a45d5b",
   "metadata": {},
   "source": [
    "What columns are missing values (If any)? Do you think you should remove the rows of data at this time in the exploration? Why or why not?"
   ]
  },
  {
   "cell_type": "markdown",
   "id": "b25ef7d5",
   "metadata": {},
   "source": [
    " There are numerous columns missung values including transport, food product, retail, and emmission rates. I do not think I should remove these missing or unreported values. This is because the lack of value may have a purpose and significance to the variable. If I remove these values, I risk skewing the data."
   ]
  },
  {
   "cell_type": "markdown",
   "id": "2f6a4531",
   "metadata": {},
   "source": [
    "What about duplicates?"
   ]
  },
  {
   "cell_type": "code",
   "execution_count": 11,
   "id": "e0d65abc",
   "metadata": {
    "tags": []
   },
   "outputs": [
    {
     "name": "stdout",
     "output_type": "stream",
     "text": [
      "[1] \"Duplicate Rows:\"\n",
      " [1] Food.product                                                           \n",
      " [2] Land.use.change                                                        \n",
      " [3] Animal.Feed                                                            \n",
      " [4] Farm                                                                   \n",
      " [5] Processing                                                             \n",
      " [6] Transport                                                              \n",
      " [7] Packging                                                               \n",
      " [8] Retail                                                                 \n",
      " [9] Total_emissions                                                        \n",
      "[10] Eutrophying.emissions.per.1000kcal..gPO.eq.per.1000kcal.               \n",
      "[11] Eutrophying.emissions.per.kilogram..gPO.eq.per.kilogram.               \n",
      "[12] Eutrophying.emissions.per.100g.protein..gPO.eq.per.100.grams.protein.  \n",
      "[13] Freshwater.withdrawals.per.1000kcal..liters.per.1000kcal.              \n",
      "[14] Freshwater.withdrawals.per.100g.protein..liters.per.100g.protein.      \n",
      "[15] Freshwater.withdrawals.per.kilogram..liters.per.kilogram.              \n",
      "[16] Greenhouse.gas.emissions.per.1000kcal..kgCO.eq.per.1000kcal.           \n",
      "[17] Greenhouse.gas.emissions.per.100g.protein..kgCO.eq.per.100g.protein.   \n",
      "[18] Land.use.per.1000kcal..m..per.1000kcal.                                \n",
      "[19] Land.use.per.kilogram..m..per.kilogram.                                \n",
      "[20] Land.use.per.100g.protein..m..per.100g.protein.                        \n",
      "[21] Scarcity.weighted.water.use.per.kilogram..liters.per.kilogram.         \n",
      "[22] Scarcity.weighted.water.use.per.100g.protein..liters.per.100g.protein. \n",
      "[23] Scarcity.weighted.water.use.per.1000kcal..liters.per.1000.kilocalories.\n",
      "<0 rows> (or 0-length row.names)\n"
     ]
    }
   ],
   "source": [
    "#Do we have any duplicates?\n",
    "duplicate_rows <- food[duplicated(food) | duplicated(food, fromLast = TRUE), ]\n",
    "\n",
    "#Print duplicates:\n",
    "print(\"Duplicate Rows:\")\n",
    "print(duplicate_rows)"
   ]
  },
  {
   "cell_type": "markdown",
   "id": "f03ab286-88fe-4663-bedb-670c662d1a1a",
   "metadata": {},
   "source": [
    "Remove duplicates...? It is imporant to specify the columns here and explain your thought process.\n",
    "\n",
    "There are no duplicates."
   ]
  },
  {
   "cell_type": "markdown",
   "id": "ef92c026",
   "metadata": {},
   "source": [
    "Let's revisit the structure and look at the data types for each column. This will be important for SQL."
   ]
  },
  {
   "cell_type": "code",
   "execution_count": 12,
   "id": "557a57fc",
   "metadata": {
    "tags": []
   },
   "outputs": [
    {
     "name": "stdout",
     "output_type": "stream",
     "text": [
      "[1] \"Original Data Types:\"\n",
      "                                                           Food.product \n",
      "                                                            \"character\" \n",
      "                                                        Land.use.change \n",
      "                                                              \"numeric\" \n",
      "                                                            Animal.Feed \n",
      "                                                              \"numeric\" \n",
      "                                                                   Farm \n",
      "                                                              \"numeric\" \n",
      "                                                             Processing \n",
      "                                                              \"numeric\" \n",
      "                                                              Transport \n",
      "                                                              \"numeric\" \n",
      "                                                               Packging \n",
      "                                                              \"numeric\" \n",
      "                                                                 Retail \n",
      "                                                              \"numeric\" \n",
      "                                                        Total_emissions \n",
      "                                                              \"numeric\" \n",
      "               Eutrophying.emissions.per.1000kcal..gPO.eq.per.1000kcal. \n",
      "                                                              \"numeric\" \n",
      "               Eutrophying.emissions.per.kilogram..gPO.eq.per.kilogram. \n",
      "                                                              \"numeric\" \n",
      "  Eutrophying.emissions.per.100g.protein..gPO.eq.per.100.grams.protein. \n",
      "                                                              \"numeric\" \n",
      "              Freshwater.withdrawals.per.1000kcal..liters.per.1000kcal. \n",
      "                                                              \"numeric\" \n",
      "      Freshwater.withdrawals.per.100g.protein..liters.per.100g.protein. \n",
      "                                                              \"numeric\" \n",
      "              Freshwater.withdrawals.per.kilogram..liters.per.kilogram. \n",
      "                                                              \"numeric\" \n",
      "           Greenhouse.gas.emissions.per.1000kcal..kgCO.eq.per.1000kcal. \n",
      "                                                              \"numeric\" \n",
      "   Greenhouse.gas.emissions.per.100g.protein..kgCO.eq.per.100g.protein. \n",
      "                                                              \"numeric\" \n",
      "                                Land.use.per.1000kcal..m..per.1000kcal. \n",
      "                                                              \"numeric\" \n",
      "                                Land.use.per.kilogram..m..per.kilogram. \n",
      "                                                              \"numeric\" \n",
      "                        Land.use.per.100g.protein..m..per.100g.protein. \n",
      "                                                              \"numeric\" \n",
      "         Scarcity.weighted.water.use.per.kilogram..liters.per.kilogram. \n",
      "                                                              \"numeric\" \n",
      " Scarcity.weighted.water.use.per.100g.protein..liters.per.100g.protein. \n",
      "                                                              \"numeric\" \n",
      "Scarcity.weighted.water.use.per.1000kcal..liters.per.1000.kilocalories. \n",
      "                                                              \"numeric\" \n"
     ]
    }
   ],
   "source": [
    "#What are the data types for each column?\n",
    "print(\"Original Data Types:\")\n",
    "print(sapply(food, class))"
   ]
  },
  {
   "cell_type": "code",
   "execution_count": null,
   "id": "bf38ed9b",
   "metadata": {},
   "outputs": [],
   "source": [
    "#Convert data types if needed. This is VERY common for dates and times. Library(lubridate) works well with dates.\n",
    "#Example: #Convert column to an integer type\n",
    " No need to convert data types"
   ]
  },
  {
   "cell_type": "markdown",
   "id": "4470acec",
   "metadata": {},
   "source": [
    "Changing text characters in your data. Make all column names lowercase. Lowercase is easier to read in SQL when we get to that point."
   ]
  },
  {
   "cell_type": "code",
   "execution_count": 15,
   "id": "5e5b529f",
   "metadata": {},
   "outputs": [
    {
     "name": "stdout",
     "output_type": "stream",
     "text": [
      " [1] \"food.product\"                                                           \n",
      " [2] \"land.use.change\"                                                        \n",
      " [3] \"animal.feed\"                                                            \n",
      " [4] \"farm\"                                                                   \n",
      " [5] \"processing\"                                                             \n",
      " [6] \"transport\"                                                              \n",
      " [7] \"packging\"                                                               \n",
      " [8] \"retail\"                                                                 \n",
      " [9] \"total_emissions\"                                                        \n",
      "[10] \"eutrophying.emissions.per.1000kcal..gpo.eq.per.1000kcal.\"               \n",
      "[11] \"eutrophying.emissions.per.kilogram..gpo.eq.per.kilogram.\"               \n",
      "[12] \"eutrophying.emissions.per.100g.protein..gpo.eq.per.100.grams.protein.\"  \n",
      "[13] \"freshwater.withdrawals.per.1000kcal..liters.per.1000kcal.\"              \n",
      "[14] \"freshwater.withdrawals.per.100g.protein..liters.per.100g.protein.\"      \n",
      "[15] \"freshwater.withdrawals.per.kilogram..liters.per.kilogram.\"              \n",
      "[16] \"greenhouse.gas.emissions.per.1000kcal..kgco.eq.per.1000kcal.\"           \n",
      "[17] \"greenhouse.gas.emissions.per.100g.protein..kgco.eq.per.100g.protein.\"   \n",
      "[18] \"land.use.per.1000kcal..m..per.1000kcal.\"                                \n",
      "[19] \"land.use.per.kilogram..m..per.kilogram.\"                                \n",
      "[20] \"land.use.per.100g.protein..m..per.100g.protein.\"                        \n",
      "[21] \"scarcity.weighted.water.use.per.kilogram..liters.per.kilogram.\"         \n",
      "[22] \"scarcity.weighted.water.use.per.100g.protein..liters.per.100g.protein.\" \n",
      "[23] \"scarcity.weighted.water.use.per.1000kcal..liters.per.1000.kilocalories.\"\n"
     ]
    }
   ],
   "source": [
    "#Make all column names lowercase:\n",
    "names(food) <- tolower(names(food))\n",
    "\n",
    "# Print the updated column names to confirm the change\n",
    "print(names(food))"
   ]
  },
  {
   "cell_type": "markdown",
   "id": "8a8c5da8",
   "metadata": {},
   "source": [
    "Assignment #1 asked you to create a graph and check for outliers. Are there any outliers in your columns? How can we check for outliers?\n",
    "  \n",
    "  There are a few outliers in the columns. We can check for outliers by creating a function that identifies ouliers by using interquartile ranges. "
   ]
  },
  {
   "cell_type": "code",
   "execution_count": 21,
   "id": "56e3563d",
   "metadata": {
    "tags": []
   },
   "outputs": [
    {
     "name": "stdout",
     "output_type": "stream",
     "text": [
      "[1] \"Outliers summary for each column:\"\n"
     ]
    },
    {
     "data": {
      "text/html": [
       "<style>\n",
       ".dl-inline {width: auto; margin:0; padding: 0}\n",
       ".dl-inline>dt, .dl-inline>dd {float: none; width: auto; display: inline-block}\n",
       ".dl-inline>dt::after {content: \":\\0020\"; padding-right: .5ex}\n",
       ".dl-inline>dt:not(:first-of-type) {padding-left: .5ex}\n",
       "</style><dl class=dl-inline><dt>food.product</dt><dd>0</dd><dt>land.use.change</dt><dd>8</dd><dt>animal.feed</dt><dd>10</dd><dt>farm</dt><dd>6</dd><dt>processing</dt><dd>5</dd><dt>transport</dt><dd>5</dd><dt>packging</dt><dd>7</dd><dt>retail</dt><dd>0</dd><dt>total_emissions</dt><dd>6</dd><dt>eutrophying.emissions.per.1000kcal..gpo.eq.per.1000kcal.</dt><dd>4</dd><dt>eutrophying.emissions.per.kilogram..gpo.eq.per.kilogram.</dt><dd>4</dd><dt>eutrophying.emissions.per.100g.protein..gpo.eq.per.100.grams.protein.</dt><dd>4</dd><dt>freshwater.withdrawals.per.1000kcal..liters.per.1000kcal.</dt><dd>2</dd><dt>freshwater.withdrawals.per.100g.protein..liters.per.100g.protein.</dt><dd>2</dd><dt>freshwater.withdrawals.per.kilogram..liters.per.kilogram.</dt><dd>3</dd><dt>greenhouse.gas.emissions.per.1000kcal..kgco.eq.per.1000kcal.</dt><dd>3</dd><dt>greenhouse.gas.emissions.per.100g.protein..kgco.eq.per.100g.protein.</dt><dd>3</dd><dt>land.use.per.1000kcal..m..per.1000kcal.</dt><dd>6</dd><dt>land.use.per.kilogram..m..per.kilogram.</dt><dd>5</dd><dt>land.use.per.100g.protein..m..per.100g.protein.</dt><dd>3</dd><dt>scarcity.weighted.water.use.per.kilogram..liters.per.kilogram.</dt><dd>5</dd><dt>scarcity.weighted.water.use.per.100g.protein..liters.per.100g.protein.</dt><dd>2</dd><dt>scarcity.weighted.water.use.per.1000kcal..liters.per.1000.kilocalories.</dt><dd>0</dd></dl>\n"
      ],
      "text/latex": [
       "\\begin{description*}\n",
       "\\item[food.product] 0\n",
       "\\item[land.use.change] 8\n",
       "\\item[animal.feed] 10\n",
       "\\item[farm] 6\n",
       "\\item[processing] 5\n",
       "\\item[transport] 5\n",
       "\\item[packging] 7\n",
       "\\item[retail] 0\n",
       "\\item[total\\textbackslash{}\\_emissions] 6\n",
       "\\item[eutrophying.emissions.per.1000kcal..gpo.eq.per.1000kcal.] 4\n",
       "\\item[eutrophying.emissions.per.kilogram..gpo.eq.per.kilogram.] 4\n",
       "\\item[eutrophying.emissions.per.100g.protein..gpo.eq.per.100.grams.protein.] 4\n",
       "\\item[freshwater.withdrawals.per.1000kcal..liters.per.1000kcal.] 2\n",
       "\\item[freshwater.withdrawals.per.100g.protein..liters.per.100g.protein.] 2\n",
       "\\item[freshwater.withdrawals.per.kilogram..liters.per.kilogram.] 3\n",
       "\\item[greenhouse.gas.emissions.per.1000kcal..kgco.eq.per.1000kcal.] 3\n",
       "\\item[greenhouse.gas.emissions.per.100g.protein..kgco.eq.per.100g.protein.] 3\n",
       "\\item[land.use.per.1000kcal..m..per.1000kcal.] 6\n",
       "\\item[land.use.per.kilogram..m..per.kilogram.] 5\n",
       "\\item[land.use.per.100g.protein..m..per.100g.protein.] 3\n",
       "\\item[scarcity.weighted.water.use.per.kilogram..liters.per.kilogram.] 5\n",
       "\\item[scarcity.weighted.water.use.per.100g.protein..liters.per.100g.protein.] 2\n",
       "\\item[scarcity.weighted.water.use.per.1000kcal..liters.per.1000.kilocalories.] 0\n",
       "\\end{description*}\n"
      ],
      "text/markdown": [
       "food.product\n",
       ":   0land.use.change\n",
       ":   8animal.feed\n",
       ":   10farm\n",
       ":   6processing\n",
       ":   5transport\n",
       ":   5packging\n",
       ":   7retail\n",
       ":   0total_emissions\n",
       ":   6eutrophying.emissions.per.1000kcal..gpo.eq.per.1000kcal.\n",
       ":   4eutrophying.emissions.per.kilogram..gpo.eq.per.kilogram.\n",
       ":   4eutrophying.emissions.per.100g.protein..gpo.eq.per.100.grams.protein.\n",
       ":   4freshwater.withdrawals.per.1000kcal..liters.per.1000kcal.\n",
       ":   2freshwater.withdrawals.per.100g.protein..liters.per.100g.protein.\n",
       ":   2freshwater.withdrawals.per.kilogram..liters.per.kilogram.\n",
       ":   3greenhouse.gas.emissions.per.1000kcal..kgco.eq.per.1000kcal.\n",
       ":   3greenhouse.gas.emissions.per.100g.protein..kgco.eq.per.100g.protein.\n",
       ":   3land.use.per.1000kcal..m..per.1000kcal.\n",
       ":   6land.use.per.kilogram..m..per.kilogram.\n",
       ":   5land.use.per.100g.protein..m..per.100g.protein.\n",
       ":   3scarcity.weighted.water.use.per.kilogram..liters.per.kilogram.\n",
       ":   5scarcity.weighted.water.use.per.100g.protein..liters.per.100g.protein.\n",
       ":   2scarcity.weighted.water.use.per.1000kcal..liters.per.1000.kilocalories.\n",
       ":   0\n",
       "\n"
      ],
      "text/plain": [
       "                                                           food.product \n",
       "                                                                      0 \n",
       "                                                        land.use.change \n",
       "                                                                      8 \n",
       "                                                            animal.feed \n",
       "                                                                     10 \n",
       "                                                                   farm \n",
       "                                                                      6 \n",
       "                                                             processing \n",
       "                                                                      5 \n",
       "                                                              transport \n",
       "                                                                      5 \n",
       "                                                               packging \n",
       "                                                                      7 \n",
       "                                                                 retail \n",
       "                                                                      0 \n",
       "                                                        total_emissions \n",
       "                                                                      6 \n",
       "               eutrophying.emissions.per.1000kcal..gpo.eq.per.1000kcal. \n",
       "                                                                      4 \n",
       "               eutrophying.emissions.per.kilogram..gpo.eq.per.kilogram. \n",
       "                                                                      4 \n",
       "  eutrophying.emissions.per.100g.protein..gpo.eq.per.100.grams.protein. \n",
       "                                                                      4 \n",
       "              freshwater.withdrawals.per.1000kcal..liters.per.1000kcal. \n",
       "                                                                      2 \n",
       "      freshwater.withdrawals.per.100g.protein..liters.per.100g.protein. \n",
       "                                                                      2 \n",
       "              freshwater.withdrawals.per.kilogram..liters.per.kilogram. \n",
       "                                                                      3 \n",
       "           greenhouse.gas.emissions.per.1000kcal..kgco.eq.per.1000kcal. \n",
       "                                                                      3 \n",
       "   greenhouse.gas.emissions.per.100g.protein..kgco.eq.per.100g.protein. \n",
       "                                                                      3 \n",
       "                                land.use.per.1000kcal..m..per.1000kcal. \n",
       "                                                                      6 \n",
       "                                land.use.per.kilogram..m..per.kilogram. \n",
       "                                                                      5 \n",
       "                        land.use.per.100g.protein..m..per.100g.protein. \n",
       "                                                                      3 \n",
       "         scarcity.weighted.water.use.per.kilogram..liters.per.kilogram. \n",
       "                                                                      5 \n",
       " scarcity.weighted.water.use.per.100g.protein..liters.per.100g.protein. \n",
       "                                                                      2 \n",
       "scarcity.weighted.water.use.per.1000kcal..liters.per.1000.kilocalories. \n",
       "                                                                      0 "
      ]
     },
     "metadata": {},
     "output_type": "display_data"
    }
   ],
   "source": [
    "#Create a code to check for outliers that fits your data exploration needs or any other errors in numeric entries.\n",
    "\n",
    "   # Function to identify outliers using the IQR method\n",
    "identify_outliers <- function(x) {\n",
    "  if(is.numeric(x)) {\n",
    "      \n",
    "    # Calculate the IQR\n",
    "    IQR_value <- IQR(x, na.rm = TRUE)\n",
    "      \n",
    "    # Calculate the quartiles\n",
    "    Q1 <- quantile(x, 0.25, na.rm = TRUE)\n",
    "    Q3 <- quantile(x, 0.75, na.rm = TRUE)\n",
    "      \n",
    "    # Define bounds for outliers\n",
    "    lower_bound <- Q1 - 1.5 * IQR_value\n",
    "    upper_bound <- Q3 + 1.5 * IQR_value\n",
    "      \n",
    "    # Return indicating outliers\n",
    "    return(x < lower_bound | x > upper_bound)\n",
    "  } else {\n",
    "    # Return NULL for character columns\n",
    "    return(rep(FALSE, length(x)))\n",
    "  }\n",
    "}\n",
    "\n",
    "# Apply the function to each column \n",
    "outliers_matrix <- lapply(food, identify_outliers)\n",
    "\n",
    "# Convert the list to a data frame\n",
    "outliers_df <- as.data.frame(outliers_matrix)\n",
    "\n",
    "# Print summary of outliers for each column\n",
    "print(\"Outliers summary for each column:\")\n",
    "sapply(outliers_df, function(x) sum(x, na.rm = TRUE))\n"
   ]
  },
  {
   "cell_type": "markdown",
   "id": "5db2b0b2",
   "metadata": {},
   "source": [
    "<b>To create additional steps for data cleaning in Jupyter notebook: </b><br>\n",
    "Hit the plus button in the top left corner to add a row of code. <br>\n",
    "To change from code to text or headers, select from the drop down menu above. <br>\n",
    "Use \"< b r >\" (No spaces or quotes) to skip a line in markdown and other HTML text font options."
   ]
  },
  {
   "cell_type": "markdown",
   "id": "4320b4e5",
   "metadata": {},
   "source": [
    "Additional step #1:"
   ]
  },
  {
   "cell_type": "code",
   "execution_count": null,
   "id": "81661bc5",
   "metadata": {},
   "outputs": [],
   "source": []
  },
  {
   "cell_type": "markdown",
   "id": "ad8519f6",
   "metadata": {},
   "source": [
    "Additional step #2:"
   ]
  },
  {
   "cell_type": "code",
   "execution_count": null,
   "id": "ac84e27d",
   "metadata": {},
   "outputs": [],
   "source": []
  },
  {
   "cell_type": "markdown",
   "id": "d8909d71",
   "metadata": {},
   "source": [
    "Additional step #3:"
   ]
  },
  {
   "cell_type": "code",
   "execution_count": null,
   "id": "2e643926",
   "metadata": {},
   "outputs": [],
   "source": []
  },
  {
   "cell_type": "markdown",
   "id": "b92b7f13",
   "metadata": {},
   "source": [
    "Lets save our new CLEAN data :) "
   ]
  },
  {
   "cell_type": "code",
   "execution_count": 26,
   "id": "0449d769",
   "metadata": {},
   "outputs": [],
   "source": [
    "#Save the newly cleaned dataset as a NEW file:\n",
    "write.csv(food, 'cleaned_food.csv')"
   ]
  },
  {
   "cell_type": "code",
   "execution_count": null,
   "id": "24f96602-3803-4c91-b1a3-23e373cfca80",
   "metadata": {
    "jupyter": {
     "source_hidden": true
    },
    "tags": []
   },
   "outputs": [],
   "source": []
  }
 ],
 "metadata": {
  "kernelspec": {
   "display_name": "R",
   "language": "R",
   "name": "ir"
  },
  "language_info": {
   "codemirror_mode": "r",
   "file_extension": ".r",
   "mimetype": "text/x-r-source",
   "name": "R",
   "pygments_lexer": "r",
   "version": "4.3.2"
  }
 },
 "nbformat": 4,
 "nbformat_minor": 5
}
